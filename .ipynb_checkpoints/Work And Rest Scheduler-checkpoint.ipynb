{
 "cells": [
  {
   "cell_type": "code",
   "execution_count": 22,
   "metadata": {},
   "outputs": [],
   "source": [
    "#!/usr/bin/python\n",
    "\n",
    "import time\n",
    "\n",
    "import os\n",
    "\n",
    "import subprocess as s\n",
    "\n",
    "import webbrowser\n",
    "\n",
    "import sys\n",
    "\n",
    "import subprocess"
   ]
  },
  {
   "cell_type": "code",
   "execution_count": 23,
   "metadata": {},
   "outputs": [],
   "source": [
    "def sound():\n",
    "    os.system('spd-say \"Really Great Job , Keep Going\"')\n",
    "\n",
    "\n",
    "    \n",
    "def send_notification():\n",
    "    s.call(['notify-send','\\t\\t\\tAnother 30 minutes in Productivity','\\t\\t\\t\\t     Keep Hustling Champ'])\n"
   ]
  },
  {
   "cell_type": "code",
   "execution_count": 24,
   "metadata": {},
   "outputs": [],
   "source": [
    "def browser_auto_open():\n",
    "\n",
    "\n",
    "    url_list_window1 = [# 'http://localhost:8888/lab' , \n",
    "                    'https://drive.google.com/drive/my-drive' , \n",
    "           'https://keep.google.com/u/0/' , \n",
    "           'https://asoftmurmur.com/?lang=en']\n",
    "\n",
    "\n",
    "    url_list_window2 = ['https://wipro.udemy.com/organization/home/' , \n",
    "                    'https://www.hackerrank.com/dashboard'\n",
    "                   ]\n",
    "\n",
    "\n",
    "    for link in url_list_window1:\n",
    "        webbrowser.open_new_tab(link)\n",
    "\n",
    "    webbrowser.open_new('')\n",
    "\n",
    "    for link in url_list_window2:\n",
    "        webbrowser.open_new_tab(link)\n"
   ]
  },
  {
   "cell_type": "code",
   "execution_count": 25,
   "metadata": {},
   "outputs": [],
   "source": [
    "def launch_jupyter_lab(): \n",
    "    openJupyter = \"jupyter-lab\"\n",
    "    subprocess.Popen(openJupyter, shell=True)"
   ]
  },
  {
   "cell_type": "code",
   "execution_count": 29,
   "metadata": {},
   "outputs": [],
   "source": [
    "launch_jupyter_lab()\n",
    "time.sleep(5)"
   ]
  },
  {
   "cell_type": "code",
   "execution_count": 30,
   "metadata": {},
   "outputs": [],
   "source": [
    "browser_auto_open()"
   ]
  },
  {
   "cell_type": "code",
   "execution_count": 16,
   "metadata": {},
   "outputs": [],
   "source": []
  },
  {
   "cell_type": "code",
   "execution_count": null,
   "metadata": {},
   "outputs": [],
   "source": []
  }
 ],
 "metadata": {
  "kernelspec": {
   "display_name": "Python 3",
   "language": "python",
   "name": "python3"
  },
  "language_info": {
   "codemirror_mode": {
    "name": "ipython",
    "version": 3
   },
   "file_extension": ".py",
   "mimetype": "text/x-python",
   "name": "python",
   "nbconvert_exporter": "python",
   "pygments_lexer": "ipython3",
   "version": "3.8.3"
  }
 },
 "nbformat": 4,
 "nbformat_minor": 4
}
