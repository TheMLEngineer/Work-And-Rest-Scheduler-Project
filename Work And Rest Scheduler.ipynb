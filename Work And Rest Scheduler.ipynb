{
 "cells": [
  {
   "cell_type": "code",
   "execution_count": 1,
   "metadata": {},
   "outputs": [],
   "source": [
    "#!/usr/bin/python\n",
    "\n",
    "import time\n",
    "\n",
    "import os\n",
    "\n",
    "import subprocess as s\n",
    "\n",
    "import webbrowser\n",
    "\n",
    "import sys\n",
    "\n",
    "import subprocess\n",
    "\n",
    "from gtts import gTTS\n",
    "\n",
    "import pyttsx3\n",
    "\n",
    "import pandas as pd\n",
    "\n",
    "import numpy as np\n",
    "\n",
    "import pyforest\n",
    "\n",
    "from pydub import AudioSegment\n",
    "\n",
    "from pydub.playback import play"
   ]
  },
  {
   "cell_type": "code",
   "execution_count": 2,
   "metadata": {},
   "outputs": [],
   "source": [
    " def send_notification_and_sound(primary_text = 'Great' , secondary_text = 'job'):\n",
    "    \n",
    "    '''\n",
    "    \n",
    "    This function send notification and read notification to user\n",
    "    \n",
    "    '''\n",
    "    \n",
    "    s.call(['notify-send', primary_text , secondary_text])\n",
    "    os.system('echo \"{}\" | festival --tts '.format(primary_text))"
   ]
  },
  {
   "cell_type": "code",
   "execution_count": 3,
   "metadata": {},
   "outputs": [],
   "source": [
    "def browser_auto_open():\n",
    "    \n",
    "    '''\n",
    "    \n",
    "    This function open browsers with the URLs I mostly use , thus saving more time for me\n",
    "    \n",
    "    '''\n",
    "\n",
    "\n",
    "    url_list_window1 = ['https://drive.google.com/drive/my-drive' , \n",
    "           'https://keep.google.com/u/0/' , \n",
    "           'https://asoftmurmur.com/?lang=en']\n",
    "\n",
    "\n",
    "    url_list_window2 = ['https://wipro.udemy.com/organization/home/' , \n",
    "                    'https://www.hackerrank.com/dashboard'\n",
    "                   ]\n",
    "\n",
    "\n",
    "    for link in url_list_window1:\n",
    "        webbrowser.open_new_tab(link)\n",
    "\n",
    "    webbrowser.open_new('')\n",
    "\n",
    "    for link in url_list_window2:\n",
    "        webbrowser.open_new_tab(link)\n"
   ]
  },
  {
   "cell_type": "code",
   "execution_count": 4,
   "metadata": {},
   "outputs": [],
   "source": [
    "def launch_jupyter_lab(): \n",
    "    \n",
    "    '''\n",
    "    \n",
    "    This function launches jupyter lab\n",
    "    \n",
    "    '''\n",
    "    \n",
    "    openJupyter = \"jupyter-lab\"\n",
    "    subprocess.Popen(openJupyter, shell=True)"
   ]
  },
  {
   "cell_type": "code",
   "execution_count": 5,
   "metadata": {},
   "outputs": [],
   "source": [
    "def wait_30_minutes():\n",
    "    \n",
    "    '''\n",
    "    \n",
    "    This function makes the control wait for 30 minutes , \n",
    "    I use this in program to schedule a notification every 30 mins\n",
    "    \n",
    "    '''\n",
    "    \n",
    "    \n",
    "    time.sleep(1800)"
   ]
  },
  {
   "cell_type": "code",
   "execution_count": 6,
   "metadata": {},
   "outputs": [],
   "source": [
    "def play_rest_music():\n",
    "    \n",
    "    '''\n",
    "    \n",
    "    This function plays my rest music in the 20 minutes when I take the rest\n",
    "    \n",
    "    '''\n",
    "    \n",
    "    music = AudioSegment.from_mp3('mario.mp3')\n",
    "    play(music)"
   ]
  },
  {
   "cell_type": "code",
   "execution_count": 7,
   "metadata": {},
   "outputs": [],
   "source": [
    "df = pd.read_csv('quotes.csv')"
   ]
  },
  {
   "cell_type": "code",
   "execution_count": 8,
   "metadata": {},
   "outputs": [],
   "source": [
    "list_of_motivation_quotes = list(df.Quote)"
   ]
  },
  {
   "cell_type": "code",
   "execution_count": 9,
   "metadata": {},
   "outputs": [],
   "source": [
    "launch_jupyter_lab()\n",
    "time.sleep(5)"
   ]
  },
  {
   "cell_type": "code",
   "execution_count": 10,
   "metadata": {},
   "outputs": [],
   "source": [
    "browser_auto_open()"
   ]
  },
  {
   "cell_type": "code",
   "execution_count": 12,
   "metadata": {},
   "outputs": [
    {
     "ename": "KeyboardInterrupt",
     "evalue": "",
     "output_type": "error",
     "traceback": [
      "\u001b[0;31m---------------------------------------------------------------------------\u001b[0m",
      "\u001b[0;31mKeyboardInterrupt\u001b[0m                         Traceback (most recent call last)",
      "\u001b[0;32m<ipython-input-12-cf7c2fd70d9b>\u001b[0m in \u001b[0;36m<module>\u001b[0;34m\u001b[0m\n\u001b[1;32m     12\u001b[0m     \u001b[0msend_notification_and_sound\u001b[0m\u001b[0;34m(\u001b[0m\u001b[0mprimary_text\u001b[0m\u001b[0;34m=\u001b[0m\u001b[0;34m'Work Time Started'\u001b[0m \u001b[0;34m,\u001b[0m \u001b[0msecondary_text\u001b[0m\u001b[0;34m=\u001b[0m \u001b[0;34m'keep going Champ'\u001b[0m\u001b[0;34m)\u001b[0m\u001b[0;34m\u001b[0m\u001b[0;34m\u001b[0m\u001b[0m\n\u001b[1;32m     13\u001b[0m     \u001b[0;32mfor\u001b[0m \u001b[0mi\u001b[0m \u001b[0;32min\u001b[0m \u001b[0mrange\u001b[0m\u001b[0;34m(\u001b[0m\u001b[0;36m3\u001b[0m\u001b[0;34m)\u001b[0m\u001b[0;34m:\u001b[0m\u001b[0;34m\u001b[0m\u001b[0;34m\u001b[0m\u001b[0m\n\u001b[0;32m---> 14\u001b[0;31m         \u001b[0mwait_30_minutes\u001b[0m\u001b[0;34m(\u001b[0m\u001b[0;34m)\u001b[0m\u001b[0;34m\u001b[0m\u001b[0;34m\u001b[0m\u001b[0m\n\u001b[0m\u001b[1;32m     15\u001b[0m         send_notification_and_sound(primary_text= np.random.choice(list_of_motivation_quotes) , \n\u001b[1;32m     16\u001b[0m                                    secondary_text= 'Another 30 Minutes successfully invested in great work , Keep it up')\n",
      "\u001b[0;32m<ipython-input-5-cda92fc45ca2>\u001b[0m in \u001b[0;36mwait_30_minutes\u001b[0;34m()\u001b[0m\n\u001b[1;32m      1\u001b[0m \u001b[0;32mdef\u001b[0m \u001b[0mwait_30_minutes\u001b[0m\u001b[0;34m(\u001b[0m\u001b[0;34m)\u001b[0m\u001b[0;34m:\u001b[0m\u001b[0;34m\u001b[0m\u001b[0;34m\u001b[0m\u001b[0m\n\u001b[0;32m----> 2\u001b[0;31m     \u001b[0mtime\u001b[0m\u001b[0;34m.\u001b[0m\u001b[0msleep\u001b[0m\u001b[0;34m(\u001b[0m\u001b[0;36m1800\u001b[0m\u001b[0;34m)\u001b[0m\u001b[0;34m\u001b[0m\u001b[0;34m\u001b[0m\u001b[0m\n\u001b[0m",
      "\u001b[0;31mKeyboardInterrupt\u001b[0m: "
     ]
    }
   ],
   "source": [
    "while True:\n",
    "    \n",
    "    '''\n",
    "    \n",
    "    This while loop implement the core logic of my work pattern , \n",
    "    90 minutes work (Notified in the time frame by notifications) \n",
    "    and\n",
    "    20 minutes rest (Program will play my rest music so I will feel refreshed)\n",
    "    \n",
    "    '''\n",
    "    \n",
    "    send_notification_and_sound(primary_text='Work Time Started' , secondary_text= 'keep going Champ')\n",
    "    for i in range(3):\n",
    "        wait_30_minutes()\n",
    "        send_notification_and_sound(primary_text= np.random.choice(list_of_motivation_quotes) , \n",
    "                                   secondary_text= 'Another 30 Minutes successfully invested in great work , Keep it up')\n",
    "    time.sleep(3)\n",
    "        \n",
    "    send_notification_and_sound(primary_text='Enjoy 20 minutes Rest' , secondary_text= 'Enjoyyy')\n",
    "    \n",
    "    for i in range(16):\n",
    "        play_rest_music()\n",
    "        time.sleep(3)\n",
    "        \n",
    "    send_notification_and_sound(primary_text = 'Get ready for hustling' , secondary_text = 'Come on Buddy , You can do it')\n",
    "    \n",
    "    time.sleep(10)\n",
    "    \n",
    "    music = AudioSegment.from_mp3('wake_up.mp3')\n",
    "    play(music)\n",
    "    \n",
    "    send_notification_and_sound(primary_text= '3 2 1 GO' , secondary_text = 'Welcome Back Champ')"
   ]
  }
 ],
 "metadata": {
  "kernelspec": {
   "display_name": "Python 3",
   "language": "python",
   "name": "python3"
  },
  "language_info": {
   "codemirror_mode": {
    "name": "ipython",
    "version": 3
   },
   "file_extension": ".py",
   "mimetype": "text/x-python",
   "name": "python",
   "nbconvert_exporter": "python",
   "pygments_lexer": "ipython3",
   "version": "3.8.3"
  }
 },
 "nbformat": 4,
 "nbformat_minor": 4
}
